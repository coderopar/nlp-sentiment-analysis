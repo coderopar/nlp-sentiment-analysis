{
 "cells": [
  {
   "cell_type": "markdown",
   "id": "c121f887",
   "metadata": {},
   "source": [
    "# Twitter Sentiment Analysis"
   ]
  },
  {
   "cell_type": "markdown",
   "id": "441e7924",
   "metadata": {},
   "source": [
    "## 1. Business Understanding\n",
    "### Introduction\n",
    "In today’s digital world, customers frequently share their opinions and experiences about technology products on social media platforms such as Twitter. For companies like **Apple** and **Google**, these real-time opinions provide valuable insights into how users perceive their products, services, and brand reputation. However, the sheer volume of tweets makes it difficult for businesses to manually analyze and understand overall customer sentiment.\n",
    "\n",
    "This project addresses the challenge of **automatically analyzing Twitter sentiment** related to Apple and Google products. By building a machine learning model that can classify tweets as *positive, negative, or neutral*, businesses can gain a scalable and data-driven way to monitor public opinion.\n",
    "\n",
    "### Stakeholders\n",
    "Several stakeholders can benefit from this project:\n",
    "- **Marketing Teams**: Track the effectiveness of new product launches, advertisements, and promotions by monitoring changes in sentiment over time.\n",
    "- **Product Managers**: Identify customer pain points and areas for improvement in specific products or services.\n",
    "- **Customer Support Teams**: Detect spikes in negative sentiment that may signal product issues or service disruptions requiring immediate response.\n",
    "- **Executives and Business Strategists**: Use sentiment trends as part of decision-making for competitive positioning against rivals and for forecasting brand perception.\n",
    "\n",
    "### Conclusion\n",
    "By developing a sentiment analysis model for Apple and Google-related tweets, stakeholders gain a practical tool for understanding and responding to customer perceptions in real time. This capability helps companies stay competitive in the fast-paced technology industry by enabling **proactive decision-making**, **improved customer engagement**, and **data-driven product development**. Ultimately, the project demonstrates how Natural Language Processing (NLP) can turn unstructured social media data into actionable business intelligence."
   ]
  },
  {
   "cell_type": "markdown",
   "id": "fc8d21ff",
   "metadata": {},
   "source": [
    "## 2. Data Understanding\n",
    "In this chapter, we explore the dataset to understand its source, structure, and properties.  \n",
    "Data understanding is critical because it ensures we know what signals exist in the dataset, how reliable they are, and how they align with the business problem.  \n",
    "\n",
    "Our goals in this chapter are to:\n",
    "1. Load and preview the dataset.  \n",
    "2. Check for missing values and duplicates.  \n",
    "3. Understand dataset size and feature types.  \n",
    "4. Explore descriptive statistics for text length and categories.  \n",
    "5. Examine sentiment and product distributions.  \n",
    "6. Identify limitations that impact modeling.  \n",
    "\n",
    "By the end of this chapter, we will know what features are useful, what preprocessing steps are needed, and what challenges we must anticipate when modeling."
   ]
  },
  {
   "cell_type": "markdown",
   "id": "301cad7a",
   "metadata": {},
   "source": [
    "### Step 1: Load and Preview the Dataset\n",
    "\n",
    "The first step in data understanding is to load the dataset into our environment and preview its structure.  \n",
    "This helps us verify the columns, check for unexpected encodings, and see a snapshot of the content.  \n"
   ]
  },
  {
   "cell_type": "code",
   "execution_count": 59,
   "id": "0539f2de",
   "metadata": {},
   "outputs": [
    {
     "data": {
      "text/html": [
       "<div>\n",
       "<style scoped>\n",
       "    .dataframe tbody tr th:only-of-type {\n",
       "        vertical-align: middle;\n",
       "    }\n",
       "\n",
       "    .dataframe tbody tr th {\n",
       "        vertical-align: top;\n",
       "    }\n",
       "\n",
       "    .dataframe thead th {\n",
       "        text-align: right;\n",
       "    }\n",
       "</style>\n",
       "<table border=\"1\" class=\"dataframe\">\n",
       "  <thead>\n",
       "    <tr style=\"text-align: right;\">\n",
       "      <th></th>\n",
       "      <th>tweet_text</th>\n",
       "      <th>emotion_in_tweet_is_directed_at</th>\n",
       "      <th>is_there_an_emotion_directed_at_a_brand_or_product</th>\n",
       "    </tr>\n",
       "  </thead>\n",
       "  <tbody>\n",
       "    <tr>\n",
       "      <th>0</th>\n",
       "      <td>.@wesley83 I have a 3G iPhone. After 3 hrs twe...</td>\n",
       "      <td>iPhone</td>\n",
       "      <td>Negative emotion</td>\n",
       "    </tr>\n",
       "    <tr>\n",
       "      <th>1</th>\n",
       "      <td>@jessedee Know about @fludapp ? Awesome iPad/i...</td>\n",
       "      <td>iPad or iPhone App</td>\n",
       "      <td>Positive emotion</td>\n",
       "    </tr>\n",
       "    <tr>\n",
       "      <th>2</th>\n",
       "      <td>@swonderlin Can not wait for #iPad 2 also. The...</td>\n",
       "      <td>iPad</td>\n",
       "      <td>Positive emotion</td>\n",
       "    </tr>\n",
       "    <tr>\n",
       "      <th>3</th>\n",
       "      <td>@sxsw I hope this year's festival isn't as cra...</td>\n",
       "      <td>iPad or iPhone App</td>\n",
       "      <td>Negative emotion</td>\n",
       "    </tr>\n",
       "    <tr>\n",
       "      <th>4</th>\n",
       "      <td>@sxtxstate great stuff on Fri #SXSW: Marissa M...</td>\n",
       "      <td>Google</td>\n",
       "      <td>Positive emotion</td>\n",
       "    </tr>\n",
       "  </tbody>\n",
       "</table>\n",
       "</div>"
      ],
      "text/plain": [
       "                                          tweet_text  \\\n",
       "0  .@wesley83 I have a 3G iPhone. After 3 hrs twe...   \n",
       "1  @jessedee Know about @fludapp ? Awesome iPad/i...   \n",
       "2  @swonderlin Can not wait for #iPad 2 also. The...   \n",
       "3  @sxsw I hope this year's festival isn't as cra...   \n",
       "4  @sxtxstate great stuff on Fri #SXSW: Marissa M...   \n",
       "\n",
       "  emotion_in_tweet_is_directed_at  \\\n",
       "0                          iPhone   \n",
       "1              iPad or iPhone App   \n",
       "2                            iPad   \n",
       "3              iPad or iPhone App   \n",
       "4                          Google   \n",
       "\n",
       "  is_there_an_emotion_directed_at_a_brand_or_product  \n",
       "0                                   Negative emotion  \n",
       "1                                   Positive emotion  \n",
       "2                                   Positive emotion  \n",
       "3                                   Negative emotion  \n",
       "4                                   Positive emotion  "
      ]
     },
     "metadata": {},
     "output_type": "display_data"
    },
    {
     "name": "stdout",
     "output_type": "stream",
     "text": [
      "Shape: (9093, 3)\n",
      "Columns: ['tweet_text', 'emotion_in_tweet_is_directed_at', 'is_there_an_emotion_directed_at_a_brand_or_product']\n"
     ]
    }
   ],
   "source": [
    "import pandas as pd\n",
    "import matplotlib.pyplot as plt\n",
    "\n",
    "FILE_PATH = \"judge-1377884607_tweet_product_company.csv\"\n",
    "\n",
    "# Robust CSV loader to handle encodings\n",
    "def load_csv(path):\n",
    "    try:\n",
    "        return pd.read_csv(path)\n",
    "    except UnicodeDecodeError:\n",
    "        return pd.read_csv(path, encoding=\"latin-1\")\n",
    "\n",
    "df = load_csv(FILE_PATH)\n",
    "\n",
    "# Clean column names for consistency\n",
    "df.columns = [c.strip().replace(\" \", \"_\").lower() for c in df.columns]\n",
    "\n",
    "# Preview first rows\n",
    "display(df.head())\n",
    "print(\"Shape:\", df.shape)\n",
    "print(\"Columns:\", df.columns.tolist())"
   ]
  },
  {
   "cell_type": "markdown",
   "id": "ce524f57",
   "metadata": {},
   "source": [
    "### Step 2: Inspect Dataset Info and Missing Values\n",
    "\n",
    "Understanding column data types and missing values is essential.  \n",
    "- It shows which columns are text, categorical, or numerical.  \n",
    "- It helps us identify where imputation or cleaning may be needed.  "
   ]
  },
  {
   "cell_type": "code",
   "execution_count": 60,
   "id": "bfb8c7dd",
   "metadata": {},
   "outputs": [
    {
     "name": "stdout",
     "output_type": "stream",
     "text": [
      "<class 'pandas.core.frame.DataFrame'>\n",
      "RangeIndex: 9093 entries, 0 to 9092\n",
      "Data columns (total 3 columns):\n",
      " #   Column                                              Non-Null Count  Dtype \n",
      "---  ------                                              --------------  ----- \n",
      " 0   tweet_text                                          9092 non-null   object\n",
      " 1   emotion_in_tweet_is_directed_at                     3291 non-null   object\n",
      " 2   is_there_an_emotion_directed_at_a_brand_or_product  9093 non-null   object\n",
      "dtypes: object(3)\n",
      "memory usage: 213.2+ KB\n"
     ]
    },
    {
     "data": {
      "text/plain": [
       "tweet_text                                               1\n",
       "emotion_in_tweet_is_directed_at                       5802\n",
       "is_there_an_emotion_directed_at_a_brand_or_product       0\n",
       "dtype: int64"
      ]
     },
     "execution_count": 60,
     "metadata": {},
     "output_type": "execute_result"
    }
   ],
   "source": [
    "# Column types and non-null counts\n",
    "df.info()\n",
    "\n",
    "# Missing values per column\n",
    "df.isna().sum()"
   ]
  },
  {
   "cell_type": "markdown",
   "id": "ea0dc116",
   "metadata": {},
   "source": [
    "### Step 3: Check for Duplicates\n",
    "\n",
    "Duplicate records can bias our model by overweighting certain examples.  \n",
    "We check for duplicates to decide whether to drop or retain them.  \n"
   ]
  },
  {
   "cell_type": "code",
   "execution_count": 61,
   "id": "89b416e4",
   "metadata": {},
   "outputs": [
    {
     "name": "stdout",
     "output_type": "stream",
     "text": [
      "Duplicate rows: 22\n"
     ]
    }
   ],
   "source": [
    "num_dupes = df.duplicated().sum()\n",
    "print(\"Duplicate rows:\", num_dupes)"
   ]
  },
  {
   "cell_type": "markdown",
   "id": "468ba766",
   "metadata": {},
   "source": [
    "### Step 4: Rename Columns to Meaningful Names\n",
    "\n",
    "For clarity, we rename columns into more readable names that align with our analysis:  \n",
    "- `tweet_text` → tweet content (feature)  \n",
    "- `emotion_in_tweet_is_directed_at` → product or brand (context feature)  \n",
    "- `is_there_an_emotion_directed_at_a_brand_or_product` → sentiment label (target)"
   ]
  },
  {
   "cell_type": "code",
   "execution_count": 62,
   "id": "496382c8",
   "metadata": {},
   "outputs": [
    {
     "data": {
      "text/html": [
       "<div>\n",
       "<style scoped>\n",
       "    .dataframe tbody tr th:only-of-type {\n",
       "        vertical-align: middle;\n",
       "    }\n",
       "\n",
       "    .dataframe tbody tr th {\n",
       "        vertical-align: top;\n",
       "    }\n",
       "\n",
       "    .dataframe thead th {\n",
       "        text-align: right;\n",
       "    }\n",
       "</style>\n",
       "<table border=\"1\" class=\"dataframe\">\n",
       "  <thead>\n",
       "    <tr style=\"text-align: right;\">\n",
       "      <th></th>\n",
       "      <th>tweet_text</th>\n",
       "      <th>product_or_brand</th>\n",
       "      <th>sentiment</th>\n",
       "    </tr>\n",
       "  </thead>\n",
       "  <tbody>\n",
       "    <tr>\n",
       "      <th>0</th>\n",
       "      <td>.@wesley83 I have a 3G iPhone. After 3 hrs twe...</td>\n",
       "      <td>iPhone</td>\n",
       "      <td>Negative emotion</td>\n",
       "    </tr>\n",
       "    <tr>\n",
       "      <th>1</th>\n",
       "      <td>@jessedee Know about @fludapp ? Awesome iPad/i...</td>\n",
       "      <td>iPad or iPhone App</td>\n",
       "      <td>Positive emotion</td>\n",
       "    </tr>\n",
       "    <tr>\n",
       "      <th>2</th>\n",
       "      <td>@swonderlin Can not wait for #iPad 2 also. The...</td>\n",
       "      <td>iPad</td>\n",
       "      <td>Positive emotion</td>\n",
       "    </tr>\n",
       "    <tr>\n",
       "      <th>3</th>\n",
       "      <td>@sxsw I hope this year's festival isn't as cra...</td>\n",
       "      <td>iPad or iPhone App</td>\n",
       "      <td>Negative emotion</td>\n",
       "    </tr>\n",
       "    <tr>\n",
       "      <th>4</th>\n",
       "      <td>@sxtxstate great stuff on Fri #SXSW: Marissa M...</td>\n",
       "      <td>Google</td>\n",
       "      <td>Positive emotion</td>\n",
       "    </tr>\n",
       "  </tbody>\n",
       "</table>\n",
       "</div>"
      ],
      "text/plain": [
       "                                          tweet_text    product_or_brand  \\\n",
       "0  .@wesley83 I have a 3G iPhone. After 3 hrs twe...              iPhone   \n",
       "1  @jessedee Know about @fludapp ? Awesome iPad/i...  iPad or iPhone App   \n",
       "2  @swonderlin Can not wait for #iPad 2 also. The...                iPad   \n",
       "3  @sxsw I hope this year's festival isn't as cra...  iPad or iPhone App   \n",
       "4  @sxtxstate great stuff on Fri #SXSW: Marissa M...              Google   \n",
       "\n",
       "          sentiment  \n",
       "0  Negative emotion  \n",
       "1  Positive emotion  \n",
       "2  Positive emotion  \n",
       "3  Negative emotion  \n",
       "4  Positive emotion  "
      ]
     },
     "execution_count": 62,
     "metadata": {},
     "output_type": "execute_result"
    }
   ],
   "source": [
    "df = df.rename(columns={\n",
    "    \"tweet_text\": \"tweet_text\",\n",
    "    \"emotion_in_tweet_is_directed_at\": \"product_or_brand\",\n",
    "    \"is_there_an_emotion_directed_at_a_brand_or_product\": \"sentiment\"\n",
    "})\n",
    "df.head()"
   ]
  },
  {
   "cell_type": "markdown",
   "id": "e5adc701",
   "metadata": {},
   "source": [
    "### Step 5: Explore Descriptive Statistics of Text\n",
    "\n",
    "Since tweets are unstructured text, we begin by measuring tweet length.  \n",
    "- This helps us understand typical tweet size and whether there are unusually short or long tweets.  \n",
    "- It also informs preprocessing choices, like truncation or padding in NLP models.  "
   ]
  },
  {
   "cell_type": "code",
   "execution_count": 63,
   "id": "1433388d",
   "metadata": {},
   "outputs": [
    {
     "data": {
      "text/html": [
       "<div>\n",
       "<style scoped>\n",
       "    .dataframe tbody tr th:only-of-type {\n",
       "        vertical-align: middle;\n",
       "    }\n",
       "\n",
       "    .dataframe tbody tr th {\n",
       "        vertical-align: top;\n",
       "    }\n",
       "\n",
       "    .dataframe thead th {\n",
       "        text-align: right;\n",
       "    }\n",
       "</style>\n",
       "<table border=\"1\" class=\"dataframe\">\n",
       "  <thead>\n",
       "    <tr style=\"text-align: right;\">\n",
       "      <th></th>\n",
       "      <th>tweet_len_char</th>\n",
       "      <th>tweet_len_word</th>\n",
       "    </tr>\n",
       "  </thead>\n",
       "  <tbody>\n",
       "    <tr>\n",
       "      <th>count</th>\n",
       "      <td>9093.000000</td>\n",
       "      <td>9093.000000</td>\n",
       "    </tr>\n",
       "    <tr>\n",
       "      <th>mean</th>\n",
       "      <td>104.950731</td>\n",
       "      <td>17.763444</td>\n",
       "    </tr>\n",
       "    <tr>\n",
       "      <th>std</th>\n",
       "      <td>27.208419</td>\n",
       "      <td>4.964105</td>\n",
       "    </tr>\n",
       "    <tr>\n",
       "      <th>min</th>\n",
       "      <td>0.000000</td>\n",
       "      <td>0.000000</td>\n",
       "    </tr>\n",
       "    <tr>\n",
       "      <th>25%</th>\n",
       "      <td>86.000000</td>\n",
       "      <td>14.000000</td>\n",
       "    </tr>\n",
       "    <tr>\n",
       "      <th>50%</th>\n",
       "      <td>109.000000</td>\n",
       "      <td>18.000000</td>\n",
       "    </tr>\n",
       "    <tr>\n",
       "      <th>75%</th>\n",
       "      <td>126.000000</td>\n",
       "      <td>21.000000</td>\n",
       "    </tr>\n",
       "    <tr>\n",
       "      <th>max</th>\n",
       "      <td>178.000000</td>\n",
       "      <td>33.000000</td>\n",
       "    </tr>\n",
       "  </tbody>\n",
       "</table>\n",
       "</div>"
      ],
      "text/plain": [
       "       tweet_len_char  tweet_len_word\n",
       "count     9093.000000     9093.000000\n",
       "mean       104.950731       17.763444\n",
       "std         27.208419        4.964105\n",
       "min          0.000000        0.000000\n",
       "25%         86.000000       14.000000\n",
       "50%        109.000000       18.000000\n",
       "75%        126.000000       21.000000\n",
       "max        178.000000       33.000000"
      ]
     },
     "execution_count": 63,
     "metadata": {},
     "output_type": "execute_result"
    }
   ],
   "source": [
    "# Robust text-length features that handle NaNs and non-strings\n",
    "\n",
    "s = df[\"tweet_text\"]  # [Series: one column of the DataFrame]\n",
    "\n",
    "# Character count: .str.len() returns NaN for missing; we turn that into 0, then to int\n",
    "df[\"tweet_len_char\"] = s.str.len().fillna(0).astype(\"int64\")  # [NaN: missing value; dtype: data type]\n",
    "\n",
    "# Word count: split on whitespace, then count tokens; handle NaN the same way\n",
    "df[\"tweet_len_word\"] = s.str.split().str.len().fillna(0).astype(\"int64\")\n",
    "\n",
    "# Quick sanity check stats (count/mean/std/min/percentiles/max)\n",
    "df[[\"tweet_len_char\", \"tweet_len_word\"]].describe()\n"
   ]
  },
  {
   "cell_type": "markdown",
   "id": "cbf9d71a",
   "metadata": {},
   "source": [
    "### Step 6: Analyze Sentiment Distribution\n",
    "\n",
    "The target variable is sentiment.  \n",
    "We need to check the distribution to see if it is balanced, because imbalance can bias the model.  \n"
   ]
  },
  {
   "cell_type": "code",
   "execution_count": 64,
   "id": "a3748155",
   "metadata": {},
   "outputs": [
    {
     "data": {
      "text/html": [
       "<div>\n",
       "<style scoped>\n",
       "    .dataframe tbody tr th:only-of-type {\n",
       "        vertical-align: middle;\n",
       "    }\n",
       "\n",
       "    .dataframe tbody tr th {\n",
       "        vertical-align: top;\n",
       "    }\n",
       "\n",
       "    .dataframe thead th {\n",
       "        text-align: right;\n",
       "    }\n",
       "</style>\n",
       "<table border=\"1\" class=\"dataframe\">\n",
       "  <thead>\n",
       "    <tr style=\"text-align: right;\">\n",
       "      <th></th>\n",
       "      <th>count</th>\n",
       "      <th>percent</th>\n",
       "    </tr>\n",
       "    <tr>\n",
       "      <th>sentiment</th>\n",
       "      <th></th>\n",
       "      <th></th>\n",
       "    </tr>\n",
       "  </thead>\n",
       "  <tbody>\n",
       "    <tr>\n",
       "      <th>No emotion toward brand or product</th>\n",
       "      <td>5389</td>\n",
       "      <td>59.27</td>\n",
       "    </tr>\n",
       "    <tr>\n",
       "      <th>Positive emotion</th>\n",
       "      <td>2978</td>\n",
       "      <td>32.75</td>\n",
       "    </tr>\n",
       "    <tr>\n",
       "      <th>Negative emotion</th>\n",
       "      <td>570</td>\n",
       "      <td>6.27</td>\n",
       "    </tr>\n",
       "    <tr>\n",
       "      <th>I can't tell</th>\n",
       "      <td>156</td>\n",
       "      <td>1.72</td>\n",
       "    </tr>\n",
       "  </tbody>\n",
       "</table>\n",
       "</div>"
      ],
      "text/plain": [
       "                                    count  percent\n",
       "sentiment                                         \n",
       "No emotion toward brand or product   5389    59.27\n",
       "Positive emotion                     2978    32.75\n",
       "Negative emotion                      570     6.27\n",
       "I can't tell                          156     1.72"
      ]
     },
     "metadata": {},
     "output_type": "display_data"
    }
   ],
   "source": [
    "sent_counts = df[\"sentiment\"].value_counts()\n",
    "sent_percent = (sent_counts / sent_counts.sum() * 100).round(2)\n",
    "\n",
    "display(pd.DataFrame({\"count\": sent_counts, \"percent\": sent_percent}))"
   ]
  },
  {
   "cell_type": "markdown",
   "id": "6c18d1d3",
   "metadata": {},
   "source": [
    "## Step 7: Analyze Product/Brand Distribution\n",
    "\n",
    "Tweets also indicate which product or brand the sentiment is directed at.  \n",
    "This is useful for:  \n",
    "- Comparing sentiment across products (Apple vs Google).  \n",
    "- Understanding which categories dominate the dataset.  \n"
   ]
  },
  {
   "cell_type": "code",
   "execution_count": 65,
   "id": "453cc378",
   "metadata": {},
   "outputs": [
    {
     "data": {
      "text/html": [
       "<div>\n",
       "<style scoped>\n",
       "    .dataframe tbody tr th:only-of-type {\n",
       "        vertical-align: middle;\n",
       "    }\n",
       "\n",
       "    .dataframe tbody tr th {\n",
       "        vertical-align: top;\n",
       "    }\n",
       "\n",
       "    .dataframe thead th {\n",
       "        text-align: right;\n",
       "    }\n",
       "</style>\n",
       "<table border=\"1\" class=\"dataframe\">\n",
       "  <thead>\n",
       "    <tr style=\"text-align: right;\">\n",
       "      <th></th>\n",
       "      <th>count</th>\n",
       "      <th>percent</th>\n",
       "    </tr>\n",
       "    <tr>\n",
       "      <th>product_or_brand</th>\n",
       "      <th></th>\n",
       "      <th></th>\n",
       "    </tr>\n",
       "  </thead>\n",
       "  <tbody>\n",
       "    <tr>\n",
       "      <th>iPad</th>\n",
       "      <td>946</td>\n",
       "      <td>28.75</td>\n",
       "    </tr>\n",
       "    <tr>\n",
       "      <th>Apple</th>\n",
       "      <td>661</td>\n",
       "      <td>20.09</td>\n",
       "    </tr>\n",
       "    <tr>\n",
       "      <th>iPad or iPhone App</th>\n",
       "      <td>470</td>\n",
       "      <td>14.28</td>\n",
       "    </tr>\n",
       "    <tr>\n",
       "      <th>Google</th>\n",
       "      <td>430</td>\n",
       "      <td>13.07</td>\n",
       "    </tr>\n",
       "    <tr>\n",
       "      <th>iPhone</th>\n",
       "      <td>297</td>\n",
       "      <td>9.02</td>\n",
       "    </tr>\n",
       "    <tr>\n",
       "      <th>Other Google product or service</th>\n",
       "      <td>293</td>\n",
       "      <td>8.90</td>\n",
       "    </tr>\n",
       "    <tr>\n",
       "      <th>Android App</th>\n",
       "      <td>81</td>\n",
       "      <td>2.46</td>\n",
       "    </tr>\n",
       "    <tr>\n",
       "      <th>Android</th>\n",
       "      <td>78</td>\n",
       "      <td>2.37</td>\n",
       "    </tr>\n",
       "    <tr>\n",
       "      <th>Other Apple product or service</th>\n",
       "      <td>35</td>\n",
       "      <td>1.06</td>\n",
       "    </tr>\n",
       "  </tbody>\n",
       "</table>\n",
       "</div>"
      ],
      "text/plain": [
       "                                 count  percent\n",
       "product_or_brand                               \n",
       "iPad                               946    28.75\n",
       "Apple                              661    20.09\n",
       "iPad or iPhone App                 470    14.28\n",
       "Google                             430    13.07\n",
       "iPhone                             297     9.02\n",
       "Other Google product or service    293     8.90\n",
       "Android App                         81     2.46\n",
       "Android                             78     2.37\n",
       "Other Apple product or service      35     1.06"
      ]
     },
     "metadata": {},
     "output_type": "display_data"
    }
   ],
   "source": [
    "prod_counts = df[\"product_or_brand\"].value_counts()\n",
    "prod_percent = (prod_counts / prod_counts.sum() * 100).round(2)\n",
    "\n",
    "display(pd.DataFrame({\"count\": prod_counts, \"percent\": prod_percent}))"
   ]
  },
  {
   "cell_type": "markdown",
   "id": "f103325b",
   "metadata": {},
   "source": [
    "### Step 8: Visualize the Distributions\n",
    "\n",
    "Visualization helps stakeholders quickly see imbalances and coverage.  \n",
    "We’ll plot sentiment distribution, product frequency, and tweet lengths."
   ]
  },
  {
   "cell_type": "code",
   "execution_count": 66,
   "id": "99125efb",
   "metadata": {},
   "outputs": [
    {
     "data": {
      "image/png": "[encoded data removed]",
      "text/plain": [
       "<Figure size 640x480 with 1 Axes>"
      ]
     },
     "metadata": {},
     "output_type": "display_data"
    },
    {
     "data": {
      "image/png": "[encoded data removed]",
      "text/plain": [
       "<Figure size 640x480 with 1 Axes>"
      ]
     },
     "metadata": {},
     "output_type": "display_data"
    },
    {
     "data": {
      "image/png": "[encoded data removed]",
      "text/plain": [
       "<Figure size 640x480 with 1 Axes>"
      ]
     },
     "metadata": {},
     "output_type": "display_data"
    }
   ],
   "source": [
    "# Sentiment distribution\n",
    "plt.figure()\n",
    "sent_counts.plot(kind=\"bar\")\n",
    "plt.title(\"Sentiment Distribution\")\n",
    "plt.xlabel(\"Sentiment\")\n",
    "plt.ylabel(\"Count\")\n",
    "plt.show()\n",
    "\n",
    "# Product distribution (top 10)\n",
    "plt.figure()\n",
    "prod_counts.head(10).plot(kind=\"bar\")\n",
    "plt.title(\"Top 10 Products/Brands by Frequency\")\n",
    "plt.xlabel(\"Product/Brand\")\n",
    "plt.ylabel(\"Count\")\n",
    "plt.show()\n",
    "\n",
    "# Tweet length histogram\n",
    "plt.figure()\n",
    "df[\"tweet_len_char\"].plot(kind=\"hist\", bins=40)\n",
    "plt.title(\"Tweet Length Distribution (Characters)\")\n",
    "plt.xlabel(\"Characters\")\n",
    "plt.ylabel(\"Frequency\")\n",
    "plt.show()\n"
   ]
  },
  {
   "cell_type": "markdown",
   "id": "bb2b72d9",
   "metadata": {},
   "source": [
    "## Step 9: Identify Limitations\n",
    "\n",
    "From our analysis, we see some challenges:  \n",
    "- **Imbalance**: “No emotion” dominates, risking bias in predictions.  \n",
    "- **Noise**: “I can’t tell” adds ambiguity.  \n",
    "- **Informal text**: Slang, hashtags, and URLs require preprocessing.  \n",
    "- **Temporal drift**: Tweets are time-specific; sentiment changes with new product launches.  \n",
    "\n",
    "These limitations guide our preprocessing and modeling strategy in the next chapter."
   ]
  },
  {
   "cell_type": "markdown",
   "id": "9ca07aec",
   "metadata": {},
   "source": [
    "# 3.Data Preparation and Preprocessing\n",
    "\n",
    "In this chapter, we clean and transform the raw tweet dataset into a form that can be used effectively by machine learning models.  \n",
    "Raw social media data often contains noise (URLs, mentions, hashtags, punctuation) and inconsistent labeling, which can negatively impact performance if left unprocessed.  \n",
    "\n",
    "Our preprocessing pipeline includes:  \n",
    "1. Handling missing and ambiguous labels.  \n",
    "2. Normalizing sentiment labels for binary and multiclass setups.  \n",
    "3. Cleaning tweet text (remove URLs, mentions, hashtags, non-alphabetic characters).  \n",
    "4. Converting text to lowercase and stripping extra whitespace.  \n",
    "5. Tokenizing and vectorizing text (e.g., TF-IDF) for modeling.  \n",
    "\n",
    "By the end of this chapter, the dataset will be clean, consistent, and ready for feature extraction and model training.\n"
   ]
  },
  {
   "cell_type": "markdown",
   "id": "258d6720",
   "metadata": {},
   "source": [
    "## Step 1: Handle Missing and Ambiguous Labels\n",
    "\n",
    "We assess and then handle missing tweets or missing labels.\n",
    "Tweets labeled as *“I can’t tell”* introduce ambiguity that does not contribute clear signal to the model.  \n",
    "For initial experiments, we will drop these rows. Later, we may revisit them if we want to build a full multiclass model.  \n"
   ]
  },
  {
   "cell_type": "code",
   "execution_count": 67,
   "id": "8537adb7",
   "metadata": {},
   "outputs": [
    {
     "name": "stdout",
     "output_type": "stream",
     "text": [
      "Missing values per column:\n",
      " tweet_text             1\n",
      "product_or_brand    5802\n",
      "sentiment              0\n",
      "tweet_len_char         0\n",
      "tweet_len_word         0\n",
      "dtype: int64\n",
      "Duplicate rows: 22\n",
      "Cleaned dataset shape: (8937, 5)\n"
     ]
    }
   ],
   "source": [
    "# Summary of missing values and duplicates\n",
    "print(\"Missing values per column:\\n\", df.isna().sum())\n",
    "if 'tweet_content' in df.columns:\n",
    "    print(f\"Duplicate tweet_content rows: {df.duplicated(subset='tweet_content').sum()}\")\n",
    "    df = df.dropna(subset=['tweet_content'])\n",
    "else:\n",
    "    print(f\"Duplicate rows: {df.duplicated().sum()}\")\n",
    "\n",
    "# Remove ambiguous sentiment rows\n",
    "df = df[df['sentiment'] != \"I can't tell\"]\n",
    "print(f\"Cleaned dataset shape: {df.shape}\")\n"
   ]
  },
  {
   "cell_type": "markdown",
   "id": "56d376c1",
   "metadata": {},
   "source": [
    "## Step 2: Normalize Sentiment Labels\n",
    "\n",
    "Standardize label strings to a compact set: The raw labels are verbose (e.g., \"Positive emotion\").  \n",
    "We’ll map them into simpler categories:  \n",
    "- Binary: Positive / Negative  \n",
    "- Ternary: Positive / Negative / Neutral  \n",
    "This helps align the dataset with the modeling goals.  \n"
   ]
  },
  {
   "cell_type": "code",
   "execution_count": 68,
   "id": "15ae22cf",
   "metadata": {},
   "outputs": [
    {
     "name": "stdout",
     "output_type": "stream",
     "text": [
      "Initial dataset shape: (8937, 5)\n",
      "\n",
      "Missing values per column:\n",
      " tweet_text             1\n",
      "product_or_brand    5655\n",
      "sentiment              0\n",
      "tweet_len_char         0\n",
      "tweet_len_word         0\n",
      "dtype: int64\n",
      "\n",
      "Unique sentiment labels before cleaning:\n",
      "sentiment\n",
      "No emotion toward brand or product    5389\n",
      "Positive emotion                      2978\n",
      "Negative emotion                       570\n",
      "Name: count, dtype: int64\n"
     ]
    }
   ],
   "source": [
    "import pandas as pd\n",
    "import numpy as np\n",
    "from tqdm import tqdm\n",
    "tqdm.pandas()\n",
    "\n",
    "# -----------------------------\n",
    "# 1. Handle Missing Values & Duplicates\n",
    "# -----------------------------\n",
    "print(\"Initial dataset shape:\", df.shape)\n",
    "\n",
    "# Check missing values\n",
    "missing_summary = df.isna().sum()\n",
    "print(\"\\nMissing values per column:\\n\", missing_summary)\n",
    "\n",
    "# Drop rows with missing tweet text\n",
    "if 'tweet_content' in df.columns:\n",
    "    before = df.shape[0]\n",
    "    df = df.dropna(subset=['tweet_content'])\n",
    "    print(f\"Dropped {before - df.shape[0]} rows with missing tweet_content. New shape: {df.shape}\")\n",
    "\n",
    "# Drop duplicate tweets\n",
    "if 'tweet_content' in df.columns:\n",
    "    before = df.shape[0]\n",
    "    df = df.drop_duplicates(subset=['tweet_content'])\n",
    "    print(f\"Removed {before - df.shape[0]} duplicate tweets. New shape: {df.shape}\")\n",
    "\n",
    "# -----------------------------\n",
    "# 2. Standardize Sentiment Labels\n",
    "# -----------------------------\n",
    "print(\"\\nUnique sentiment labels before cleaning:\")\n",
    "print(df['sentiment'].value_counts())\n",
    "\n",
    "# Map to standardized sentiment labels\n",
    "sentiment_map = {\n",
    "    'Positive emotion': 'Positive',\n",
    "    'Negative emotion': 'Negative',\n",
    "    'No emotion toward brand or product': 'Neutral'\n",
    "}\n",
    "df['sentiment'] = df['sentiment'].map(sentiment_map)\n"
   ]
  },
  {
   "cell_type": "markdown",
   "id": "89611b42",
   "metadata": {},
   "source": [
    "## Step 3: Clean Tweet Text\n",
    "\n",
    "Tweets often contain noise such as:  \n",
    "- **Mentions (@username)** → not useful for sentiment.  \n",
    "- **URLs** → irrelevant for sentiment detection.  \n",
    "- **Hashtags (#word)** → we remove the `#` but keep the word.  \n",
    "- **Special characters, digits, punctuation** → reduced to keep words only.  \n",
    "\n",
    "We will apply regex-based cleaning to normalize tweets.  \n"
   ]
  },
  {
   "cell_type": "code",
   "execution_count": 69,
   "id": "4a0b8c9e",
   "metadata": {},
   "outputs": [
    {
     "name": "stdout",
     "output_type": "stream",
     "text": [
      "\n",
      " Ternary class distribution:\n",
      "target_ternary\n",
      "neutral     5389\n",
      "positive    2978\n",
      "negative     570\n",
      "Name: count, dtype: int64\n",
      "\n",
      "Sample of original vs cleaned tweets:\n",
      "                                          tweet_text  \\\n",
      "0  .@wesley83 I have a 3G iPhone. After 3 hrs twe...   \n",
      "1  @jessedee Know about @fludapp ? Awesome iPad/i...   \n",
      "2  @swonderlin Can not wait for #iPad 2 also. The...   \n",
      "3  @sxsw I hope this year's festival isn't as cra...   \n",
      "4  @sxtxstate great stuff on Fri #SXSW: Marissa M...   \n",
      "5  @teachntech00 New iPad Apps For #SpeechTherapy...   \n",
      "6                                                NaN   \n",
      "7  #SXSW is just starting, #CTIA is around the co...   \n",
      "8  Beautifully smart and simple idea RT @madebyma...   \n",
      "9  Counting down the days to #sxsw plus strong Ca...   \n",
      "\n",
      "                                          clean_text  \n",
      "0  i have a g iphone after hrs tweeting at rise a...  \n",
      "1  know about awesome ipad iphone app that you ll...  \n",
      "2  can not wait for ipad also they should sale th...  \n",
      "3  i hope this year s festival isn t as crashy as...  \n",
      "4  great stuff on fri sxsw marissa mayer google t...  \n",
      "5  new ipad apps for speechtherapy and communicat...  \n",
      "6                                                nan  \n",
      "7  sxsw is just starting ctia is around the corne...  \n",
      "8  beautifully smart and simple idea rt wrote abo...  \n",
      "9  counting down the days to sxsw plus strong can...  \n"
     ]
    }
   ],
   "source": [
    "import pandas as pd\n",
    "import re\n",
    "\n",
    "# Sentiment mapping\n",
    "ternary_map = {\n",
    "    \"Positive\": \"positive\",\n",
    "    \"Negative\": \"negative\",\n",
    "    \"Neutral\": \"neutral\"\n",
    "}\n",
    "\n",
    "# Filter dataset & create target labels \n",
    "df_ternary = df[df[\"sentiment\"].isin(ternary_map.keys())].copy()\n",
    "df_ternary[\"target_ternary\"] = df_ternary[\"sentiment\"].map(ternary_map)\n",
    "\n",
    "print(\"\\n Ternary class distribution:\")\n",
    "print(df_ternary[\"target_ternary\"].value_counts())\n",
    "\n",
    "# Clean tweets \n",
    "def clean_tweet(text):\n",
    "    \"\"\"\n",
    "    Cleans tweet text by:\n",
    "    1. Lowercasing\n",
    "    2. Removing URLs, mentions, hashtags\n",
    "    3. Removing non-alphabetic characters\n",
    "    4. Normalizing spaces\n",
    "    \"\"\"\n",
    "    text = str(text).lower()\n",
    "    text = re.sub(r\"http\\S+|www\\S+\", \"\", text)   # remove URLs\n",
    "    text = re.sub(r\"@\\w+\", \"\", text)             # remove mentions\n",
    "    text = re.sub(r\"#\", \"\", text)                # remove hashtag symbol\n",
    "    text = re.sub(r\"[^a-z\\s]\", \" \", text)        # keep only letters and spaces\n",
    "    text = re.sub(r\"\\s+\", \" \", text).strip()     # normalize spaces\n",
    "    return text\n",
    "\n",
    "# Apply cleaning on tweets\n",
    "df_ternary[\"clean_text\"] = df_ternary[\"tweet_text\"].apply(clean_tweet)\n",
    "\n",
    "# Check sample cleaned tweets\n",
    "print(\"\\nSample of original vs cleaned tweets:\")\n",
    "print(df_ternary[[\"tweet_text\", \"clean_text\"]].head(10))\n"
   ]
  },
  {
   "cell_type": "code",
   "execution_count": 70,
   "id": "6c2714c4",
   "metadata": {},
   "outputs": [
    {
     "name": "stdout",
     "output_type": "stream",
     "text": [
      "Number of empty tweets after cleaning: 0\n"
     ]
    }
   ],
   "source": [
    "# Drop rows where clean_text is NaN or empty\n",
    "df_ternary = df_ternary.dropna(subset=[\"clean_text\"])\n",
    "df_ternary = df_ternary[df_ternary[\"clean_text\"].str.strip() != \"\"]\n",
    "\n",
    "# Check if any empty tweets remain\n",
    "print(\"Number of empty tweets after cleaning:\", df_ternary[\"clean_text\"].eq(\"\").sum())\n"
   ]
  },
  {
   "cell_type": "markdown",
   "id": "e11d3716",
   "metadata": {},
   "source": [
    "## Step 4: Tokenization and Vectorization with TF-IDF\n",
    "\n",
    "Machine learning models require numerical features.  \n",
    "We transform the cleaned text into vectors using **TF-IDF (Term Frequency–Inverse Document Frequency)**:  \n",
    "- Captures importance of words and bigrams.  \n",
    "- Produces a sparse matrix representation of text.  \n",
    "\n",
    "We create **separate TF-IDF matrices** for the binary and ternary datasets.\n"
   ]
  },
  {
   "cell_type": "code",
   "execution_count": 75,
   "id": "cee3c561",
   "metadata": {},
   "outputs": [
    {
     "name": "stdout",
     "output_type": "stream",
     "text": [
      "TF-IDF vectorization complete!\n",
      "Binary dataset shape: (3548, 5000), Ternary dataset shape: (8937, 5000)\n"
     ]
    }
   ],
   "source": [
    "from sklearn.feature_extraction.text import TfidfVectorizer\n",
    "\n",
    "# -----------------------------\n",
    "# 1. Binary dataset: exclude neutral tweets\n",
    "# -----------------------------\n",
    "df_binary = df_ternary[df_ternary[\"target_ternary\"] != \"neutral\"].copy()\n",
    "df_binary[\"target_binary\"] = df_binary[\"target_ternary\"].apply(lambda x: 1 if x == \"positive\" else 0)\n",
    "\n",
    "# -----------------------------\n",
    "# 2. Ternary labels: convert to numeric\n",
    "# -----------------------------\n",
    "ternary_numeric = {\"negative\": 0, \"neutral\": 1, \"positive\": 2}\n",
    "df_ternary[\"target_ternary_num\"] = df_ternary[\"target_ternary\"].map(ternary_numeric)\n",
    "\n",
    "# -----------------------------\n",
    "# 3. TF-IDF Vectorization\n",
    "# -----------------------------\n",
    "\n",
    "# Binary TF-IDF\n",
    "tfidf_binary = TfidfVectorizer(max_features=5000, ngram_range=(1,2))\n",
    "X_binary = tfidf_binary.fit_transform(df_binary[\"clean_text\"])\n",
    "y_binary = df_binary[\"target_binary\"]\n",
    "\n",
    "# Ternary TF-IDF\n",
    "tfidf_ternary = TfidfVectorizer(max_features=5000, ngram_range=(1,2))\n",
    "X_ternary = tfidf_ternary.fit_transform(df_ternary[\"clean_text\"])\n",
    "y_ternary = df_ternary[\"target_ternary_num\"]\n",
    "\n",
    "# -----------------------------\n",
    "# 4. Print summary\n",
    "# -----------------------------\n",
    "print(\"TF-IDF vectorization complete!\")\n",
    "print(f\"Binary dataset shape: {X_binary.shape}, Ternary dataset shape: {X_ternary.shape}\")\n"
   ]
  },
  {
   "cell_type": "markdown",
   "id": "a5332d69",
   "metadata": {},
   "source": [
    "## Step 5 — Save cleaned datasets"
   ]
  },
  {
   "cell_type": "code",
   "execution_count": 76,
   "id": "513342db",
   "metadata": {},
   "outputs": [
    {
     "name": "stdout",
     "output_type": "stream",
     "text": [
      "Binary and ternary datasets saved successfully!\n"
     ]
    }
   ],
   "source": [
    "import numpy as np\n",
    "import scipy.sparse\n",
    "\n",
    "# -----------------------------\n",
    "# 1. Save Binary TF-IDF Dataset\n",
    "# -----------------------------\n",
    "scipy.sparse.save_npz(\"X_binary.npz\", X_binary)           # save sparse matrix\n",
    "np.save(\"y_binary.npy\", y_binary)                         # save labels\n",
    "\n",
    "# -----------------------------\n",
    "# 2. Save Ternary TF-IDF Dataset\n",
    "# -----------------------------\n",
    "scipy.sparse.save_npz(\"X_ternary.npz\", X_ternary)         # save sparse matrix\n",
    "np.save(\"y_ternary.npy\", y_ternary)                       # save labels\n",
    "\n",
    "print(\"Binary and ternary datasets saved successfully!\")\n"
   ]
  },
  {
   "cell_type": "markdown",
   "id": "326c4367",
   "metadata": {},
   "source": [
    "## Step 6: Summary of Preprocessing\n",
    "\n",
    "We now have clean datasets ready for modeling:  \n",
    "\n",
    "- **Binary Dataset**:  \n",
    "  - Labels: Positive, Negative  \n",
    "  - Shape: matches reduced set (after dropping neutrals)  \n",
    "  - TF-IDF features with up to 5,000 unigrams + bigrams  \n",
    "\n",
    "- **Ternary Dataset**:  \n",
    "  - Labels: Positive, Negative, Neutral  \n",
    "  - Shape: includes all except “I can’t tell”  \n",
    "  - TF-IDF features with up to 5,000 unigrams + bigrams  \n",
    "\n",
    "The datasets are cleaned, normalized, and vectorized, and are ready for model training in the next chapter.\n"
   ]
  }
 ],
 "metadata": {
  "kernelspec": {
   "display_name": "base",
   "language": "python",
   "name": "python3"
  },
  "language_info": {
   "codemirror_mode": {
    "name": "ipython",
    "version": 3
   },
   "file_extension": ".py",
   "mimetype": "text/x-python",
   "name": "python",
   "nbconvert_exporter": "python",
   "pygments_lexer": "ipython3",
   "version": "3.12.7"
  }
 },
 "nbformat": 4,
 "nbformat_minor": 5
}
